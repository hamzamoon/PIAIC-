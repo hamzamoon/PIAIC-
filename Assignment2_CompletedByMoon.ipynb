{
  "cells": [
    {
      "cell_type": "markdown",
      "metadata": {
        "id": "F5eUAEXePLTP"
      },
      "source": [
        "# Topic: print()"
      ]
    },
    {
      "cell_type": "markdown",
      "metadata": {
        "id": "clCXoUpkPLTb"
      },
      "source": [
        "1) Using the python print function print any string value, integer value, boolean value, float value in single print command"
      ]
    },
    {
      "cell_type": "code",
      "execution_count": null,
      "metadata": {
        "colab": {
          "base_uri": "https://localhost:8080/"
        },
        "id": "Y4KDqbXrPLTc",
        "outputId": "3d65fadd-85d9-430f-f65d-600b52754ce2"
      },
      "outputs": [
        {
          "output_type": "stream",
          "name": "stdout",
          "text": [
            "Moon 21 True 78.5\n"
          ]
        }
      ],
      "source": [
        "print(\"Moon\",21,True,78.5)"
      ]
    },
    {
      "cell_type": "markdown",
      "metadata": {
        "id": "MIXLs_klPLTe"
      },
      "source": [
        "2) Using the python print function print hyphon(-) separated any string value, integer value, boolean value, float value in single print command"
      ]
    },
    {
      "cell_type": "code",
      "execution_count": null,
      "metadata": {
        "colab": {
          "base_uri": "https://localhost:8080/"
        },
        "id": "SNHlF6hePLTf",
        "outputId": "58c16cc7-289c-4d22-838e-ae7b9e2450f9"
      },
      "outputs": [
        {
          "output_type": "stream",
          "name": "stdout",
          "text": [
            "Moon-21-True-78.5\n"
          ]
        }
      ],
      "source": [
        "print(\"Moon\",21,True,78.5,sep=\"-\")\n"
      ]
    },
    {
      "cell_type": "markdown",
      "metadata": {
        "id": "-2loczOwPLTh"
      },
      "source": [
        "3) Using the python print function print any string value, integer value, boolean value, float value in separate print command.\n",
        "But every value must be space separated and in single line "
      ]
    },
    {
      "cell_type": "code",
      "execution_count": null,
      "metadata": {
        "colab": {
          "base_uri": "https://localhost:8080/"
        },
        "id": "eeb2xZWJPLTj",
        "outputId": "0f524512-80f9-4660-8fb6-bf6dbb42a7a5"
      },
      "outputs": [
        {
          "output_type": "stream",
          "name": "stdout",
          "text": [
            "Moon\n",
            "21\n",
            "True\n",
            "78.5\n"
          ]
        }
      ],
      "source": [
        "print(\"Moon\\n21\\nTrue\\n78.5\")"
      ]
    },
    {
      "cell_type": "markdown",
      "metadata": {
        "id": "IUii5N6xPLTk"
      },
      "source": [
        "4) Can a python print function take no value to print???"
      ]
    },
    {
      "cell_type": "code",
      "execution_count": null,
      "metadata": {
        "colab": {
          "base_uri": "https://localhost:8080/"
        },
        "id": "3RThsxnGPLTl",
        "outputId": "917da50e-57a2-4cfc-805f-acff5a8f66f0"
      },
      "outputs": [
        {
          "output_type": "stream",
          "name": "stdout",
          "text": [
            "\n"
          ]
        }
      ],
      "source": [
        "print()\n"
      ]
    },
    {
      "cell_type": "markdown",
      "metadata": {
        "id": "cj3f_z5CPLTm"
      },
      "source": [
        "# TOPIC :Variables in Python Operators"
      ]
    },
    {
      "cell_type": "markdown",
      "metadata": {
        "id": "Jyv8az9wPLTn"
      },
      "source": [
        "5) One of my friends name is Mr. Ahmed. He is 30 years old.  He is a lawer by profession. He has done his bachelors in law in the year 2005. He is working with a reputable law firm 'The Himalya Associates' in Karachi since 2015.\n",
        "He is a handsome lawer with height of 5.10 feets and weight 70600g. His monthly income is Rs. 200k PKR.\n",
        "\n",
        "Note: Create variables from above text and also assign values from the text.  "
      ]
    },
    {
      "cell_type": "code",
      "execution_count": null,
      "metadata": {
        "colab": {
          "base_uri": "https://localhost:8080/"
        },
        "id": "vnUf_TnJPLTn",
        "outputId": "f4642c6e-e5a5-4577-fab6-7196c8d75014"
      },
      "outputs": [
        {
          "output_type": "stream",
          "name": "stdout",
          "text": [
            "Name\n",
            "Age\n",
            "Profession\n",
            "Bachelors\n",
            "Firm\n",
            "Experience\n",
            "Height\n",
            "Weight\n",
            "Income\n",
            "30\n",
            "lawyer\n",
            "2005\n",
            "The Himalya Associates\n",
            "7\n",
            "5.1\n",
            "70600\n",
            "(200, 0)\n"
          ]
        }
      ],
      "source": [
        "Name=\"Mr Ahmed\"\n",
        "Age=30\n",
        "Profession=\"lawyer\"\n",
        "Bachelors=2005\n",
        "Firm=\"The Himalya Associates\"\n",
        "Experience=7 \n",
        "Height=5.10\n",
        "Weight=70600\n",
        "Income=200,000\n",
        "print(\"Name\\nAge\\nProfession\\nBachelors\\nFirm\\nExperience\\nHeight\\nWeight\\nIncome\")\n",
        "\n",
        "print(Age)\n",
        "print(Profession)\n",
        "print(Bachelors)\n",
        "print(Firm)\n",
        "print(Experience)\n",
        "print(Height)\n",
        "print(Weight)\n",
        "print(Income)\n"
      ]
    },
    {
      "cell_type": "markdown",
      "metadata": {
        "id": "WZQtZQw9PLTo"
      },
      "source": [
        "6)How many years has been to Mr. Ahmed after his bachelors degree? Create a variable that hold current year value and then subtract it from his passout year"
      ]
    },
    {
      "cell_type": "code",
      "execution_count": null,
      "metadata": {
        "colab": {
          "base_uri": "https://localhost:8080/"
        },
        "id": "7UGbaC-xPLTp",
        "outputId": "da952551-4bfa-43fc-d303-8f6917ebc99e"
      },
      "outputs": [
        {
          "output_type": "stream",
          "name": "stdout",
          "text": [
            "17\n"
          ]
        }
      ],
      "source": [
        "Graduated = 2005\n",
        "CurrentYear = 2022\n",
        "print(CurrentYear-Graduated)\n",
        "\n"
      ]
    },
    {
      "cell_type": "markdown",
      "metadata": {
        "id": "L9iHX8CGPLTp"
      },
      "source": [
        "7) How many years has Mr. Ahmed been working with law firm 'The Himalya Associates'. Create necesary variables and print the correct number of years in working in the firm"
      ]
    },
    {
      "cell_type": "code",
      "execution_count": null,
      "metadata": {
        "id": "U7YAi00XPLTq"
      },
      "outputs": [],
      "source": [
        "Joined = 2015\n",
        "CurrentYear = 2022\n",
        "print(CurrentYear-Joined)\n"
      ]
    },
    {
      "cell_type": "markdown",
      "metadata": {
        "id": "NfhOpdH_PLTq"
      },
      "source": [
        "8)Convert the monthly income of Mr. Ahmed in dollars.  Create necesary variables and print the income in dollars."
      ]
    },
    {
      "cell_type": "code",
      "execution_count": null,
      "metadata": {
        "colab": {
          "base_uri": "https://localhost:8080/"
        },
        "id": "o8TsTNbMPLTr",
        "outputId": "439f223c-c7d7-4003-8a2c-36871dff4a64"
      },
      "outputs": [
        {
          "output_type": "stream",
          "name": "stdout",
          "text": [
            "49000000\n"
          ]
        }
      ],
      "source": [
        "Income = 200000\n",
        "Dollar = 245\n",
        "print(Income*Dollar)\n"
      ]
    },
    {
      "cell_type": "markdown",
      "metadata": {
        "id": "ayDz-ZEYPLTr"
      },
      "source": [
        "9) Check if the income in dollars is a float or integer value. if it is float, re-write the code so that income gets converted in integer. print the income in integer type value"
      ]
    },
    {
      "cell_type": "code",
      "execution_count": null,
      "metadata": {
        "colab": {
          "base_uri": "https://localhost:8080/"
        },
        "id": "xmTXA1rzPLTs",
        "outputId": "09510b34-a6b5-4b59-bfcf-875d9ebc0962"
      },
      "outputs": [
        {
          "output_type": "execute_result",
          "data": {
            "text/plain": [
              "int"
            ]
          },
          "metadata": {},
          "execution_count": 25
        }
      ],
      "source": [
        "type(Income*Dollar)\n"
      ]
    },
    {
      "cell_type": "raw",
      "metadata": {
        "id": "GrVFdPwCPLTs"
      },
      "source": [
        "10) Print the type of Mr. Ahmed's weight. Convert the weight of Mr. Ahmed in kg so that weight must be a integer value. "
      ]
    },
    {
      "cell_type": "code",
      "execution_count": null,
      "metadata": {
        "colab": {
          "base_uri": "https://localhost:8080/"
        },
        "id": "CvTvS-etPLTt",
        "outputId": "d23e3d64-8897-4c54-a55d-b631e0d5cf0b"
      },
      "outputs": [
        {
          "output_type": "stream",
          "name": "stdout",
          "text": [
            "70600\n"
          ]
        }
      ],
      "source": [
        "print(Weight)\n"
      ]
    },
    {
      "cell_type": "raw",
      "metadata": {
        "id": "7Zpt3TApPLTt"
      },
      "source": [
        "11) print the year of birth of Mr. Ahmed."
      ]
    },
    {
      "cell_type": "code",
      "execution_count": null,
      "metadata": {
        "colab": {
          "base_uri": "https://localhost:8080/"
        },
        "id": "gnDx1swzPLTu",
        "outputId": "99d4aa66-a5a3-43d4-e7df-d05661369b5f"
      },
      "outputs": [
        {
          "output_type": "stream",
          "name": "stdout",
          "text": [
            "30\n",
            "1992\n"
          ]
        }
      ],
      "source": [
        "print(Age)\n",
        "print(2022-30)"
      ]
    },
    {
      "cell_type": "markdown",
      "metadata": {
        "id": "S-o7NncCPLTu"
      },
      "source": [
        "12) Can Rs. 100 be divided equally among 6 students? \n",
        "HINT: % operator"
      ]
    },
    {
      "cell_type": "code",
      "execution_count": null,
      "metadata": {
        "colab": {
          "base_uri": "https://localhost:8080/"
        },
        "id": "otW33nwxPLTv",
        "outputId": "4641897f-0a83-47eb-90d5-0fd643482481"
      },
      "outputs": [
        {
          "output_type": "execute_result",
          "data": {
            "text/plain": [
              "16"
            ]
          },
          "metadata": {},
          "execution_count": 32
        }
      ],
      "source": [
        "100%6\n",
        "100//6"
      ]
    },
    {
      "cell_type": "code",
      "execution_count": null,
      "metadata": {
        "id": "PxuDfAb2PLTv"
      },
      "outputs": [],
      "source": [
        ""
      ]
    }
  ],
  "metadata": {
    "kernelspec": {
      "display_name": "Python 3",
      "language": "python",
      "name": "python3"
    },
    "language_info": {
      "codemirror_mode": {
        "name": "ipython",
        "version": 3
      },
      "file_extension": ".py",
      "mimetype": "text/x-python",
      "name": "python",
      "nbconvert_exporter": "python",
      "pygments_lexer": "ipython3",
      "version": "3.7.4"
    },
    "colab": {
      "name": "Assignment2 CompletedByMoon.ipynb",
      "provenance": [],
      "collapsed_sections": []
    }
  },
  "nbformat": 4,
  "nbformat_minor": 0
}